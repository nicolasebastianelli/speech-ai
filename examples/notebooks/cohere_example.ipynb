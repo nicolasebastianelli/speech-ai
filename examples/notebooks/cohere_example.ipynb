{
 "cells": [
  {
   "cell_type": "markdown",
   "id": "89abce28",
   "metadata": {},
   "source": [
    "# **Hi! 👋 Welcome in this example of Speech AI !** "
   ]
  },
  {
   "cell_type": "markdown",
   "id": "be15243c",
   "metadata": {},
   "source": [
    "## **The library making AI conversational for real! 🔈**"
   ]
  },
  {
   "cell_type": "markdown",
   "id": "064c1643",
   "metadata": {},
   "source": [
    "Let's install the library:"
   ]
  },
  {
   "cell_type": "code",
   "execution_count": 1,
   "id": "1ccc3677",
   "metadata": {
    "scrolled": true
   },
   "outputs": [
    {
     "name": "stdout",
     "output_type": "stream",
     "text": [
      "Collecting speechai\n",
      "  Downloading speechai-0.0.2-py3-none-any.whl (6.0 kB)\n",
      "Collecting gtts<3.0.0,>=2.3.2 (from speechai)\n",
      "  Downloading gTTS-2.3.2-py3-none-any.whl (28 kB)\n",
      "Collecting openai<0.28.0,>=0.27.7 (from speechai)\n",
      "  Downloading openai-0.27.7-py3-none-any.whl (71 kB)\n",
      "\u001b[2K     \u001b[38;2;114;156;31m━━━━━━━━━━━━━━━━━━━━━━━━━━━━━━━━━━━━━━━━\u001b[0m \u001b[32m72.0/72.0 kB\u001b[0m \u001b[31m2.0 MB/s\u001b[0m eta \u001b[36m0:00:00\u001b[0m\n",
      "\u001b[?25hRequirement already satisfied: python-dotenv<2.0.0,>=1.0.0 in /usr/local/lib/python3.11/site-packages (from speechai) (1.0.0)\n",
      "Requirement already satisfied: requests<3,>=2.27 in /usr/local/lib/python3.11/site-packages (from gtts<3.0.0,>=2.3.2->speechai) (2.28.2)\n",
      "Requirement already satisfied: click<8.2,>=7.1 in /usr/local/lib/python3.11/site-packages (from gtts<3.0.0,>=2.3.2->speechai) (8.1.3)\n",
      "Requirement already satisfied: tqdm in /usr/local/lib/python3.11/site-packages (from openai<0.28.0,>=0.27.7->speechai) (4.65.0)\n",
      "Requirement already satisfied: aiohttp in /usr/local/lib/python3.11/site-packages (from openai<0.28.0,>=0.27.7->speechai) (3.8.4)\n",
      "Requirement already satisfied: charset-normalizer<4,>=2 in /usr/local/lib/python3.11/site-packages (from requests<3,>=2.27->gtts<3.0.0,>=2.3.2->speechai) (3.1.0)\n",
      "Requirement already satisfied: idna<4,>=2.5 in /usr/local/lib/python3.11/site-packages (from requests<3,>=2.27->gtts<3.0.0,>=2.3.2->speechai) (3.4)\n",
      "Requirement already satisfied: urllib3<1.27,>=1.21.1 in /usr/local/lib/python3.11/site-packages (from requests<3,>=2.27->gtts<3.0.0,>=2.3.2->speechai) (1.26.15)\n",
      "Requirement already satisfied: certifi>=2017.4.17 in /usr/local/lib/python3.11/site-packages (from requests<3,>=2.27->gtts<3.0.0,>=2.3.2->speechai) (2022.12.7)\n",
      "Requirement already satisfied: attrs>=17.3.0 in /usr/local/lib/python3.11/site-packages (from aiohttp->openai<0.28.0,>=0.27.7->speechai) (23.1.0)\n",
      "Requirement already satisfied: multidict<7.0,>=4.5 in /usr/local/lib/python3.11/site-packages (from aiohttp->openai<0.28.0,>=0.27.7->speechai) (6.0.4)\n",
      "Requirement already satisfied: async-timeout<5.0,>=4.0.0a3 in /usr/local/lib/python3.11/site-packages (from aiohttp->openai<0.28.0,>=0.27.7->speechai) (4.0.2)\n",
      "Requirement already satisfied: yarl<2.0,>=1.0 in /usr/local/lib/python3.11/site-packages (from aiohttp->openai<0.28.0,>=0.27.7->speechai) (1.8.2)\n",
      "Requirement already satisfied: frozenlist>=1.1.1 in /usr/local/lib/python3.11/site-packages (from aiohttp->openai<0.28.0,>=0.27.7->speechai) (1.3.3)\n",
      "Requirement already satisfied: aiosignal>=1.1.2 in /usr/local/lib/python3.11/site-packages (from aiohttp->openai<0.28.0,>=0.27.7->speechai) (1.3.1)\n",
      "Installing collected packages: gtts, openai, speechai\n",
      "  Attempting uninstall: openai\n",
      "    Found existing installation: openai 0.27.4\n",
      "    Uninstalling openai-0.27.4:\n",
      "      Successfully uninstalled openai-0.27.4\n",
      "Successfully installed gtts-2.3.2 openai-0.27.7 speechai-0.0.2\n"
     ]
    }
   ],
   "source": [
    "!pip install speechai"
   ]
  },
  {
   "cell_type": "markdown",
   "id": "53e545fb",
   "metadata": {},
   "source": [
    "Now it's time to import all the necessary modules and packages:"
   ]
  },
  {
   "cell_type": "code",
   "execution_count": null,
   "id": "c2f70e63",
   "metadata": {},
   "outputs": [],
   "source": [
    "from speechai import SpeechAI\n",
    "from speechai.llm import Cohere\n",
    "from speechai.tts import GTTS\n",
    "#speechai: the main package for SpeechAI functionality.\n",
    "#speechai.llm: contains the large-language-models classes available in SpeechAI.\n",
    "#speechai.tts: contains the text-to-speech classes available in SpeechAI."
   ]
  },
  {
   "cell_type": "markdown",
   "id": "88315fc9",
   "metadata": {},
   "source": [
    "Insert the LLM provider key, using environment variables is reccomended (allows to access sensitive information such as the API keys securely)."
   ]
  },
  {
   "cell_type": "code",
   "execution_count": null,
   "id": "f6ac5321",
   "metadata": {},
   "outputs": [],
   "source": [
    "api_key = \"COHERE-KEY\"\n",
    "# Load environment variables"
   ]
  },
  {
   "cell_type": "code",
   "execution_count": null,
   "id": "cfaf03f5",
   "metadata": {},
   "outputs": [],
   "source": [
    "cohere = Cohere(api_key)\n",
    "tts = GTTS(language_code=\"en\")\n",
    "sa = SpeechAI(cohere, tts)\n",
    "# Initialize a Cohere object for language modeling using the provided API key.\n",
    "# Initialize a GTTS object for text-to-speech synthesis in English(default).\n",
    "# Create an instance of the SpeechAI class by passing the OpenAI and GTTS objects created earlier. This combines the language modeling and text-to-speech synthesis functionalities."
   ]
  },
  {
   "cell_type": "markdown",
   "id": "54af615f",
   "metadata": {},
   "source": [
    "Write your questions here and get your audio back! 😉"
   ]
  },
  {
   "cell_type": "code",
   "execution_count": null,
   "id": "37b02207",
   "metadata": {},
   "outputs": [],
   "source": [
    "from IPython.display import Audio\n",
    "[text, audio] = sa.synthesize_dialog(\"Which is the fastest animal on the planet?\", \"./output/fastest-cohere.mp3\")\n",
    "print(text)\n",
    "Audio(audio)\n",
    "# Synthesize the text and save the audio output as an MP3 file at the indicated path."
   ]
  },
  {
   "cell_type": "code",
   "execution_count": null,
   "id": "51564afd",
   "metadata": {},
   "outputs": [],
   "source": [
    "from IPython.display import Audio\n",
    "[text, audio] = sa.synthesize_dialog(\"What is the average height of a giraffe??\", \"./output/giraffe-cohere.mp3\")\n",
    "print(text)\n",
    "Audio(audio)\n",
    "# Synthesize the text and save the audio output as an MP3 file at the indicated path."
   ]
  },
  {
   "cell_type": "markdown",
   "id": "51eaf950",
   "metadata": {},
   "source": [
    "As easy as speaking, right? "
   ]
  }
 ],
 "metadata": {
  "kernelspec": {
   "display_name": "Python 3 (ipykernel)",
   "language": "python",
   "name": "python3"
  },
  "language_info": {
   "codemirror_mode": {
    "name": "ipython",
    "version": 3
   },
   "file_extension": ".py",
   "mimetype": "text/x-python",
   "name": "python",
   "nbconvert_exporter": "python",
   "pygments_lexer": "ipython3",
   "version": "3.11.3"
  }
 },
 "nbformat": 4,
 "nbformat_minor": 5
}
